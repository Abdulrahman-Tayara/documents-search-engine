{
 "cells": [
  {
   "cell_type": "markdown",
   "metadata": {},
   "source": [
    "TfIdf Training"
   ]
  },
  {
   "cell_type": "code",
   "execution_count": null,
   "metadata": {},
   "outputs": [],
   "source": [
    "import os\n",
    "\n",
    "os.chdir(os.getcwd() + \"\\\\..\")\n",
    "\n",
    "from engine.notebook_utils import *\n",
    "from engine.utils import *\n",
    "from sklearn.metrics.pairwise import cosine_similarity\n",
    "\n",
    "\n",
    "documents_metadata = fetch_training_dataset1_metadata(limit=None)\n",
    "\n",
    "\n",
    "print(f\"Corpus size = {len(documents_metadata)}\")\n"
   ]
  },
  {
   "cell_type": "code",
   "execution_count": null,
   "metadata": {
    "pycharm": {
     "name": "#%%\n"
    }
   },
   "outputs": [],
   "source": [
    "from sklearn.feature_extraction.text import TfidfVectorizer\n",
    "\n",
    "documents = []\n",
    "documents_ids = []\n",
    "for d in documents_metadata:\n",
    "    content = load_document_content(d.key)\n",
    "    documents.append(content)\n",
    "    documents_ids.append(d.id)\n",
    "\n",
    "\n",
    "tfidf_vectorizer = TfidfVectorizer(analyzer='word', preprocessor=preprocess, tokenizer=tokenize_content)\n",
    "\n",
    "tfidf = tfidf_vectorizer.fit_transform(documents)"
   ]
  },
  {
   "cell_type": "code",
   "execution_count": null,
   "metadata": {
    "pycharm": {
     "name": "#%%\n"
    }
   },
   "outputs": [],
   "source": [
    "\n",
    "import os\n",
    "\n",
    "save_model(tfidf_vectorizer, os.path.join(\"tfidf\", \"vectorizer.pk\"))\n",
    "\n",
    "save_model(tfidf, os.path.join(\"tfidf\", \"matrix.pk\"))\n",
    "\n",
    "save_model(documents_ids, os.path.join(\"tfidf\", \"documents_ids.pk\"))"
   ]
  },
  {
   "cell_type": "markdown",
   "metadata": {},
   "source": [
    "Evaluation"
   ]
  },
  {
   "cell_type": "code",
   "execution_count": null,
   "metadata": {},
   "outputs": [],
   "source": [
    "os.chdir(os.getcwd() + \"\\\\..\")\n",
    "from evaluation import *\n",
    "from engine.tfidf_engine import TfIdfEngine\n",
    "from engine.notebook_utils import get_test_queries_path, get_test_queries_matches_path\n",
    "\n",
    "test_queries_path = get_test_queries_path()\n",
    "test_queries_matches_path = get_test_queries_matches_path()\n",
    "\n",
    "engine = TfIdfEngine(threshold=0.12)\n",
    "\n",
    "def listener(query_id, precision, recall, avg_precision, precision_at_10):\n",
    "    print(f\"query id: {query_id}, recall: {recall}, precision: {precision}, precision@10: {precision_at_10}, avg_precision: {avg_precision}\")\n",
    "\n",
    "evaluation = evaluate(engine, test_queries_path, test_queries_matches_path, listener)\n"
   ]
  },
  {
   "cell_type": "code",
   "execution_count": null,
   "metadata": {},
   "outputs": [],
   "source": [
    "import pandas as pd\n",
    "\n",
    "df = pd.DataFrame(evaluation['queries'])\n",
    "\n",
    "map_mrr_df = pd.DataFrame([\n",
    "    {\n",
    "        'Average Recall': evaluation['average_recall'],\n",
    "        'Average Precision': evaluation['average_precision'],\n",
    "        'MAP': evaluation['mean_average_precision'],\n",
    "        'MRR': evaluation['mean_reciprocal_rank'],\n",
    "    }\n",
    "])\n",
    "\n",
    "print(df)\n",
    "print()\n",
    "print(map_mrr_df)"
   ]
  }
 ],
 "metadata": {
  "interpreter": {
   "hash": "fdae8aecc3517de7af3fcbf9f8ccec6cc7ed509442a3c84a35a8e1e2e605e5b0"
  },
  "kernelspec": {
   "display_name": "Python 3.10.4 64-bit",
   "language": "python",
   "name": "python3"
  },
  "language_info": {
   "codemirror_mode": {
    "name": "ipython",
    "version": 3
   },
   "file_extension": ".py",
   "mimetype": "text/x-python",
   "name": "python",
   "nbconvert_exporter": "python",
   "pygments_lexer": "ipython3",
   "version": "3.10.4"
  },
  "orig_nbformat": 4
 },
 "nbformat": 4,
 "nbformat_minor": 2
}
