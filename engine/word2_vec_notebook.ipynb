{
 "cells": [
  {
   "cell_type": "code",
   "execution_count": null,
   "metadata": {},
   "outputs": [],
   "source": [
    "import os\n",
    "\n",
    "os.chdir(os.getcwd() + \"\\\\..\")\n",
    "\n",
    "from engine.notebook_utils import *\n",
    "from engine.utils import *\n",
    "from sklearn.metrics.pairwise import cosine_similarity\n",
    "\n",
    "\n",
    "documents_metadata = fetch_training_dataset1_metadata(limit=None)\n",
    "\n",
    "\n",
    "print(f\"Corpus size = {len(documents_metadata)}\")\n"
   ]
  },
  {
   "cell_type": "code",
   "execution_count": null,
   "metadata": {},
   "outputs": [],
   "source": [
    "\n",
    "documents = []\n",
    "\n",
    "documents_ids = []\n",
    "\n",
    "for d in documents_metadata:\n",
    "    content = load_document_content(d.key)\n",
    "\n",
    "    cleaned_content = preprocess(content)\n",
    "\n",
    "    documents.append(cleaned_content)\n",
    "\n",
    "    documents_ids.append(d.id)\n"
   ]
  },
  {
   "cell_type": "code",
   "execution_count": null,
   "metadata": {},
   "outputs": [],
   "source": [
    "from engine.utils import *\n",
    "\n",
    "# Training Inputs:\n",
    "min_count = 1\n",
    "vector_size = 300\n",
    "window = 5\n",
    "epochs = 600\n",
    "workers = 6\n",
    "\n",
    "tokenized_documents = [tokenize_content(d) for d in documents]\n",
    "\n",
    "model = Word2Vec(tokenized_documents, min_count = min_count, vector_size= vector_size, window = window, sg = 1, epochs=epochs, workers=workers)"
   ]
  },
  {
   "cell_type": "code",
   "execution_count": null,
   "metadata": {},
   "outputs": [],
   "source": [
    "import numpy as np\n",
    "\n",
    "def get_embedding_vector(doc_tokens):\n",
    "    size = model.vector_size\n",
    "    embeddings = []\n",
    "    if len(doc_tokens) < 1:\n",
    "        return np.zeros(size)\n",
    "    else:\n",
    "        for tok in doc_tokens:\n",
    "            if tok in model.wv.index_to_key:\n",
    "                embeddings.append(model.wv.get_vector(tok))\n",
    "            else:\n",
    "                embeddings.append(np.random.rand(size))\n",
    "    \n",
    "    return np.mean(embeddings, axis=0)\n",
    "\n",
    "train_matrix = [get_embedding_vector(tokenize_content(d)) for d in documents]"
   ]
  },
  {
   "cell_type": "code",
   "execution_count": null,
   "metadata": {},
   "outputs": [],
   "source": [
    "save_w2v_model(model, os.path.join(\"word2vec\", \"word2vec.model\"))\n",
    "\n",
    "save_model(documents_ids, os.path.join(\"word2vec\", \"documents_ids.pk\"))\n",
    "\n",
    "save_model(train_matrix, os.path.join(\"word2vec\", \"matrix.pk\"))"
   ]
  },
  {
   "cell_type": "code",
   "execution_count": null,
   "metadata": {},
   "outputs": [],
   "source": [
    "os.chdir(os.getcwd() + \"\\\\..\")\n",
    "from evaluation import *\n",
    "from engine.word2vec_engine import Word2VecEngine\n",
    "from engine.notebook_utils import get_test_queries_path, get_test_queries_matches_path\n",
    "\n",
    "test_queries_path = get_test_queries_path()\n",
    "test_queries_matches_path = get_test_queries_matches_path()\n",
    "\n",
    "engine = Word2VecEngine(threshold=0.63, results_limit=30)\n",
    "\n",
    "def listener(query_id, precision, recall, avg_precision, precision_at_10):\n",
    "    print(f\"query id: {query_id}, recall: {recall}, precision: {precision}, precision@10: {precision_at_10}, avg_precision: {avg_precision}\")\n",
    "\n",
    "evaluation = evaluate(engine, test_queries_path, test_queries_matches_path, listener)"
   ]
  },
  {
   "cell_type": "code",
   "execution_count": null,
   "metadata": {},
   "outputs": [],
   "source": [
    "import pandas as pd\n",
    "\n",
    "df = pd.DataFrame(evaluation['queries'])\n",
    "\n",
    "map_mrr_df = pd.DataFrame([\n",
    "    {\n",
    "        'Average Recall': evaluation['average_recall'],\n",
    "        'Average Precision': evaluation['average_precision'],\n",
    "        'MAP': evaluation['mean_average_precision'],\n",
    "        'MRR': evaluation['mean_reciprocal_rank'],\n",
    "    }\n",
    "])\n",
    "\n",
    "print(df)\n",
    "print()\n",
    "print(map_mrr_df)"
   ]
  }
 ],
 "metadata": {
  "interpreter": {
   "hash": "fdae8aecc3517de7af3fcbf9f8ccec6cc7ed509442a3c84a35a8e1e2e605e5b0"
  },
  "kernelspec": {
   "display_name": "Python 3.10.4 64-bit",
   "language": "python",
   "name": "python3"
  },
  "language_info": {
   "codemirror_mode": {
    "name": "ipython",
    "version": 3
   },
   "file_extension": ".py",
   "mimetype": "text/x-python",
   "name": "python",
   "nbconvert_exporter": "python",
   "pygments_lexer": "ipython3",
   "version": "3.10.4"
  },
  "orig_nbformat": 4
 },
 "nbformat": 4,
 "nbformat_minor": 2
}
